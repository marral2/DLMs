{
  "nbformat": 4,
  "nbformat_minor": 0,
  "metadata": {
    "colab": {
      "provenance": [],
      "gpuType": "T4",
      "include_colab_link": true
    },
    "kernelspec": {
      "name": "python3",
      "display_name": "Python 3"
    },
    "language_info": {
      "name": "python"
    },
    "accelerator": "GPU"
  },
  "cells": [
    {
      "cell_type": "markdown",
      "metadata": {
        "id": "view-in-github",
        "colab_type": "text"
      },
      "source": [
        "<a href=\"https://colab.research.google.com/github/marral2/DLMs/blob/main/VAE_CIFAR10.ipynb\" target=\"_parent\"><img src=\"https://colab.research.google.com/assets/colab-badge.svg\" alt=\"Open In Colab\"/></a>"
      ]
    },
    {
      "cell_type": "markdown",
      "source": [
        "# VAE (Variational Auto-Encoder) with CIFAR10 dataset\n",
        "Visulization is from MNIST\n",
        "![VAE_3D](https://ichko.github.io/assets/visualizing-vae-with-efemarai-v1/efem-train.gif)\n",
        "\n",
        "\n",
        "Recomended Web-site to read and practice more about VAEs:\n",
        "[VAE in 3D](https://ichko.github.io/visualizing-vae-with-efemarai)"
      ],
      "metadata": {
        "id": "9dXFcOxOSJ3j"
      }
    },
    {
      "cell_type": "markdown",
      "source": [
        "### Libraries used"
      ],
      "metadata": {
        "id": "oLYl_WkXSImP"
      }
    },
    {
      "cell_type": "code",
      "execution_count": null,
      "metadata": {
        "id": "tr3XtN17d_BW"
      },
      "outputs": [],
      "source": [
        "from tensorflow.keras.layers import Lambda, Input, Dense, Conv2D, Conv2DTranspose, Flatten, Reshape\n",
        "from tensorflow.keras.models import Model\n",
        "from tensorflow.keras.datasets import cifar10\n",
        "from tensorflow.keras.losses import binary_crossentropy, mean_squared_error\n",
        "from tensorflow.keras import backend as K\n",
        "import numpy as np"
      ]
    },
    {
      "cell_type": "code",
      "source": [
        "(x_train, y_train), (x_test, y_test) = cifar10.load_data()\n"
      ],
      "metadata": {
        "colab": {
          "base_uri": "https://localhost:8080/"
        },
        "id": "yABcU7gOeIME",
        "outputId": "bc78fbcb-7cee-4d25-ae58-d51c5777b617"
      },
      "execution_count": null,
      "outputs": [
        {
          "output_type": "stream",
          "name": "stdout",
          "text": [
            "Downloading data from https://www.cs.toronto.edu/~kriz/cifar-10-python.tar.gz\n",
            "170498071/170498071 [==============================] - 3s 0us/step\n"
          ]
        }
      ]
    },
    {
      "cell_type": "code",
      "source": [
        "x_train.shape"
      ],
      "metadata": {
        "colab": {
          "base_uri": "https://localhost:8080/"
        },
        "id": "QeywRnzNegiD",
        "outputId": "dd93c313-21ab-4b7e-d891-da35448eaefd"
      },
      "execution_count": null,
      "outputs": [
        {
          "output_type": "execute_result",
          "data": {
            "text/plain": [
              "(50000, 32, 32, 3)"
            ]
          },
          "metadata": {},
          "execution_count": 3
        }
      ]
    },
    {
      "cell_type": "code",
      "source": [
        "32*32*3"
      ],
      "metadata": {
        "colab": {
          "base_uri": "https://localhost:8080/"
        },
        "id": "Dqa2N1vGejy4",
        "outputId": "bd353a01-e7ad-4f1d-b12c-1269289c43d0"
      },
      "execution_count": null,
      "outputs": [
        {
          "output_type": "execute_result",
          "data": {
            "text/plain": [
              "3072"
            ]
          },
          "metadata": {},
          "execution_count": 4
        }
      ]
    },
    {
      "cell_type": "code",
      "source": [
        "x_train.shape[1:]"
      ],
      "metadata": {
        "colab": {
          "base_uri": "https://localhost:8080/"
        },
        "id": "k_7k3xgcfBHH",
        "outputId": "a06df84d-692c-4f42-e495-ef8c1bcf36d2"
      },
      "execution_count": null,
      "outputs": [
        {
          "output_type": "execute_result",
          "data": {
            "text/plain": [
              "(32, 32, 3)"
            ]
          },
          "metadata": {},
          "execution_count": 5
        }
      ]
    },
    {
      "cell_type": "code",
      "source": [
        "import numpy as np\n",
        "import matplotlib.pyplot as plt\n",
        "from tensorflow.keras.datasets import cifar10\n",
        "\n",
        "# Load the CIFAR-10 dataset\n",
        "(x_train, y_train), (x_test, y_test) = cifar10.load_data()\n",
        "\n",
        "# Set the random seed for reproducibility\n",
        "np.random.seed(42)\n",
        "\n",
        "# Sample 5 random indices from the training dataset\n",
        "random_indices = np.random.choice(x_train.shape[0], 5, replace=False)\n",
        "\n",
        "# Plot the 5 random images\n",
        "fig, axes = plt.subplots(1, 5, figsize=(15, 3))\n",
        "\n",
        "for i, idx in enumerate(random_indices):\n",
        "    axes[i].imshow(x_train[idx])\n",
        "    axes[i].axis('off')\n",
        "    axes[i].set_title(f'Label: {y_train[idx][0]}')\n",
        "\n",
        "plt.show()\n"
      ],
      "metadata": {
        "colab": {
          "base_uri": "https://localhost:8080/",
          "height": 259
        },
        "id": "x2K4HFq51kuW",
        "outputId": "d885633b-6b2e-4abc-f84f-a03078eda7d5"
      },
      "execution_count": null,
      "outputs": [
        {
          "output_type": "display_data",
          "data": {
            "text/plain": [
              "<Figure size 1500x300 with 5 Axes>"
            ],
            "image/png": "[encoded data removed]"
          },
          "metadata": {}
        }
      ]
    },
    {
      "cell_type": "markdown",
      "source": [
        "### Extra examples of cifar10 dataset (image)\n",
        "<img src=\"https://miro.medium.com/v2/0*BdetXYemwXwOqNTs.jpg\" alt=\"encoder\" width=\"800\"/>\n"
      ],
      "metadata": {
        "id": "MFyYnDVR1B-B"
      }
    },
    {
      "cell_type": "markdown",
      "source": [
        "### Data Standarization = Adjustment of the data values to be between 0 and 1\n"
      ],
      "metadata": {
        "id": "movBXcLHSAFi"
      }
    },
    {
      "cell_type": "code",
      "source": [
        "x_train = x_train.astype(\"float32\") / 255\n",
        "x_test = x_test.astype(\"float32\") / 255"
      ],
      "metadata": {
        "id": "mPZRa9EgeRaW"
      },
      "execution_count": null,
      "outputs": []
    },
    {
      "cell_type": "code",
      "source": [
        "#The shape of inputs typically is (batch_size, height, width, channels)\n",
        "input_shape = x_train.shape[1:] # then this line of code is returning only the  \"height, width, channels\" the shape position from 1 to the end of the list that describes the dimensions of the inputs\n",
        "batch_size = 128\n",
        "latent_dim = 64 #or Latent Layer, is the Number of dimensions to represent the encoded data\n",
        "epochs = 5"
      ],
      "metadata": {
        "id": "_gewzUOxeYl7"
      },
      "execution_count": null,
      "outputs": []
    },
    {
      "cell_type": "markdown",
      "source": [
        "![Auto-Encoder](https://www.researchgate.net/publication/352703131/figure/fig2/AS:1038132996763648@1624521602141/An-example-autoencoder-model-architecture-with-symmetrical-encoder-and-decoder-networks.ppm)\n"
      ],
      "metadata": {
        "id": "ghias5pXe2jk"
      }
    },
    {
      "cell_type": "code",
      "source": [
        "inputs = Input(shape = input_shape, name = \"encoder_input\")\n",
        "x = Conv2D(32, 3, activation = \"relu\", strides = 2, padding = \"same\")(inputs)\n",
        "x = Conv2D(64, 3, activation = \"relu\", strides = 2, padding =  \"same\")(x)\n",
        "\n",
        "shape_before_flat = K.int_shape(x)\n",
        "\n",
        "x = Flatten()(x)\n",
        "x = Dense(256, activation = \"relu\" )(x)\n",
        "\n",
        "z_mean = Dense(latent_dim, name='z_mean')(x)\n",
        "z_log_var = Dense(latent_dim, name='z_log_var')(x)\n"
      ],
      "metadata": {
        "id": "aEip9LhbexHR"
      },
      "execution_count": null,
      "outputs": []
    },
    {
      "cell_type": "code",
      "source": [
        "shape_before_flat # (batch_size, height, width, channels)"
      ],
      "metadata": {
        "colab": {
          "base_uri": "https://localhost:8080/"
        },
        "id": "lCcAC5RRgdZD",
        "outputId": "5bd26815-9a33-4091-c944-c3cddb5ee3cb"
      },
      "execution_count": null,
      "outputs": [
        {
          "output_type": "execute_result",
          "data": {
            "text/plain": [
              "(None, 8, 8, 64)"
            ]
          },
          "metadata": {},
          "execution_count": 10
        }
      ]
    },
    {
      "cell_type": "code",
      "source": [
        "8*8*64"
      ],
      "metadata": {
        "colab": {
          "base_uri": "https://localhost:8080/"
        },
        "id": "a6l8HDeKgaa5",
        "outputId": "4aa22375-06e9-4d30-c4c7-9fd00b5f3510"
      },
      "execution_count": null,
      "outputs": [
        {
          "output_type": "execute_result",
          "data": {
            "text/plain": [
              "4096"
            ]
          },
          "metadata": {},
          "execution_count": 11
        }
      ]
    },
    {
      "cell_type": "markdown",
      "source": [
        "### VAE Encoder, and its dimensions indicated:\n",
        "<img src=\"https://drive.google.com/uc?id=1ID4VgS3KmsLKXSbeME1_G-y0TQ3m1Ll8\" alt=\"encoder\" width=\"600\"/>\n",
        "\n",
        "\n"
      ],
      "metadata": {
        "id": "Gs9RKhXglue1"
      }
    },
    {
      "cell_type": "markdown",
      "source": [
        "### For reference of the Keras Conv2D function:\n",
        "A gift of a Conv2D Keras function with a stride of 1 and no padding, so the resulting matrix is smaller"
      ],
      "metadata": {
        "id": "p1278i1vb_R7"
      }
    },
    {
      "cell_type": "markdown",
      "source": [
        "![Conv2D](https://i.sstatic.net/xdXTn.gif)\n"
      ],
      "metadata": {
        "id": "NJbdAIr2bfjq"
      }
    },
    {
      "cell_type": "markdown",
      "source": [
        "A Gift of a Conv2D Keras function with stride=2 and padding=1"
      ],
      "metadata": {
        "id": "_c2mMInIcoTI"
      }
    },
    {
      "cell_type": "markdown",
      "source": [
        "![Conv2D](https://miro.medium.com/v2/resize:fit:2000/1*LjXV6eQKTQcg-PJnBRE0VA.gif)\n"
      ],
      "metadata": {
        "id": "j-qm-nxgcoTI"
      }
    },
    {
      "cell_type": "markdown",
      "source": [
        "Note:\n",
        "\n",
        "\n",
        "A \"stride\" of 2 means the filter moves two pixels at a time both horizontally and vertically. Larger strides result in a smaller output size.\n",
        "\n",
        "\n",
        "\n",
        "Padding=\"same\": Ensures the output size is the same as the input size by padding the input with zeros around the border, \\\\\n",
        "*when a stride of 1 is used*."
      ],
      "metadata": {
        "id": "6cW04W4uc05o"
      }
    },
    {
      "cell_type": "code",
      "source": [
        "def sampling(args):\n",
        "  z_mean, z_log_var = args\n",
        "\n",
        "  dim = K.int_shape(z_mean)[1]\n",
        "\n",
        "  # TODO: check dimensions\n",
        "  epsilon = K.random_normal(shape = (K.shape(z_mean)[0], dim))\n",
        "\n",
        "  return z_mean + K.exp(0.5 * z_log_var) * epsilon"
      ],
      "metadata": {
        "id": "n3VL4s6yhHfY"
      },
      "execution_count": null,
      "outputs": []
    },
    {
      "cell_type": "markdown",
      "source": [
        "The return statement in the `sampling` function is:\n",
        "\n",
        "$ z_{\\text{mean}} + (e^{(1/2)} \\cdot z_{\\text{σ}}) \\cdot \\epsilon $\n"
      ],
      "metadata": {
        "id": "R-xaCkuHiXV-"
      }
    },
    {
      "cell_type": "code",
      "source": [
        "z = Lambda(sampling, output_shape=(latent_dim,), name='z')([z_mean, z_log_var])"
      ],
      "metadata": {
        "id": "C8JxN1rsh9c7"
      },
      "execution_count": null,
      "outputs": []
    },
    {
      "cell_type": "markdown",
      "source": [
        "### *Lambda(sampling, output_shape=(latent_dim,), name='z'):*\n",
        "\n",
        "Lambda Layer: This is a Keras layer that wraps an arbitrary expression (a function) as a layer object. It allows you to define custom operations that will be executed as part of the model.\n",
        "\n",
        "sampling Function: This is the function defined earlier, which performs the reparameterization trick. It takes z_mean and z_log_var as inputs and returns a sampled latent vector z.\n",
        "\n",
        "output_shape=(latent_dim,): This specifies the shape of the output of the Lambda layer. Here, latent_dim is a variable that defines the dimensionality of the latent space.\n",
        "\n",
        "name='z': This assigns a name to the layer, which can be useful for model visualization and debugging.\n",
        "\n",
        "\n",
        "### *Inputs to the Lambda Layer:*\n",
        "\n",
        "([z_mean, z_log_var])\n",
        "\n",
        "This specifies that the inputs to the Lambda layer are z_mean and z_log_var.\n",
        "\n",
        "These inputs are passed as a list to the sampling function."
      ],
      "metadata": {
        "id": "vgfUTo5YnMie"
      }
    },
    {
      "cell_type": "markdown",
      "source": [
        "### Why do we sample a latent vector $z$ ?\n",
        "![Latent_Vector](https://miro.medium.com/v2/resize:fit:1358/0*2DZwupQZTnpBEH1s.png)\n",
        "\n",
        "More Importantly, How should it be done?\n",
        "\n",
        "![ReParametrization](https://drive.google.com/uc?id=1tbM4FOfyrP9KrD--T8XOWR3f3Ly2QXwr)\n",
        "\n",
        "To reinforce this is recommended to read the blog: [VAE in TensorFlow by learnopencv](https://learnopencv.com/variational-autoencoder-in-tensorflow/)"
      ],
      "metadata": {
        "id": "EkmOdlnpn19Y"
      }
    },
    {
      "cell_type": "markdown",
      "source": [
        "# Encoder"
      ],
      "metadata": {
        "id": "3d1L8oSYjtIX"
      }
    },
    {
      "cell_type": "code",
      "source": [
        "encoder = Model(inputs, [z_mean, z_log_var, z], name='encoder')\n",
        "encoder.summary()"
      ],
      "metadata": {
        "colab": {
          "base_uri": "https://localhost:8080/"
        },
        "id": "_l50sNqAjGaK",
        "outputId": "126c354a-1582-414c-8e25-46140c922d05"
      },
      "execution_count": null,
      "outputs": [
        {
          "output_type": "stream",
          "name": "stdout",
          "text": [
            "Model: \"encoder\"\n",
            "__________________________________________________________________________________________________\n",
            " Layer (type)                Output Shape                 Param #   Connected to                  \n",
            "==================================================================================================\n",
            " encoder_input (InputLayer)  [(None, 32, 32, 3)]          0         []                            \n",
            "                                                                                                  \n",
            " conv2d (Conv2D)             (None, 16, 16, 32)           896       ['encoder_input[0][0]']       \n",
            "                                                                                                  \n",
            " conv2d_1 (Conv2D)           (None, 8, 8, 64)             18496     ['conv2d[0][0]']              \n",
            "                                                                                                  \n",
            " flatten (Flatten)           (None, 4096)                 0         ['conv2d_1[0][0]']            \n",
            "                                                                                                  \n",
            " dense (Dense)               (None, 256)                  1048832   ['flatten[0][0]']             \n",
            "                                                                                                  \n",
            " z_mean (Dense)              (None, 64)                   16448     ['dense[0][0]']               \n",
            "                                                                                                  \n",
            " z_log_var (Dense)           (None, 64)                   16448     ['dense[0][0]']               \n",
            "                                                                                                  \n",
            " z (Lambda)                  (None, 64)                   0         ['z_mean[0][0]',              \n",
            "                                                                     'z_log_var[0][0]']           \n",
            "                                                                                                  \n",
            "==================================================================================================\n",
            "Total params: 1101120 (4.20 MB)\n",
            "Trainable params: 1101120 (4.20 MB)\n",
            "Non-trainable params: 0 (0.00 Byte)\n",
            "__________________________________________________________________________________________________\n"
          ]
        }
      ]
    },
    {
      "cell_type": "markdown",
      "source": [
        "# Decoder\n",
        "### VAE Decoder, and its dimensions indicated (mirrored numbers):\n",
        "![encoder](https://drive.google.com/uc?id=1a6KmCNWfbq1MZmF4NYtPAqc9EgoreFdW)\n",
        "\n"
      ],
      "metadata": {
        "id": "AdM94Rb_0GOG"
      }
    },
    {
      "cell_type": "code",
      "source": [
        "shape_before_flat"
      ],
      "metadata": {
        "colab": {
          "base_uri": "https://localhost:8080/"
        },
        "id": "q3JnyidUkqV3",
        "outputId": "7664c783-f9d8-4f5f-d938-473d24b6775d"
      },
      "execution_count": null,
      "outputs": [
        {
          "output_type": "execute_result",
          "data": {
            "text/plain": [
              "(None, 8, 8, 64)"
            ]
          },
          "metadata": {},
          "execution_count": 15
        }
      ]
    },
    {
      "cell_type": "code",
      "source": [
        "latent_inputs = Input(shape=(latent_dim,), name='z_sampling')\n",
        "\n",
        "# Check if work\n",
        "x = Dense(np.prod(shape_before_flat[1:]), activation = \"relu\")(latent_inputs)\n",
        "x = Reshape(shape_before_flat[1:])(x)\n",
        "x = Conv2DTranspose(64, 3, activation = \"relu\", strides = 2, padding =  \"same\")(x)\n",
        "x = Conv2DTranspose(32, 3, activation = \"relu\", strides = 2, padding = \"same\")(x)\n",
        "outputs = Conv2DTranspose(3, 3, activation = \"sigmoid\", padding = \"same\")(x)\n",
        "\n",
        "decoder = Model(latent_inputs, outputs, name='decoder')\n",
        "decoder.summary()"
      ],
      "metadata": {
        "colab": {
          "base_uri": "https://localhost:8080/"
        },
        "id": "QTBGf0BajxQ8",
        "outputId": "bd38fd9f-9443-4638-8da0-7ae0cffc30b1"
      },
      "execution_count": null,
      "outputs": [
        {
          "output_type": "stream",
          "name": "stdout",
          "text": [
            "Model: \"decoder\"\n",
            "_________________________________________________________________\n",
            " Layer (type)                Output Shape              Param #   \n",
            "=================================================================\n",
            " z_sampling (InputLayer)     [(None, 64)]              0         \n",
            "                                                                 \n",
            " dense_1 (Dense)             (None, 4096)              266240    \n",
            "                                                                 \n",
            " reshape (Reshape)           (None, 8, 8, 64)          0         \n",
            "                                                                 \n",
            " conv2d_transpose (Conv2DTr  (None, 16, 16, 64)        36928     \n",
            " anspose)                                                        \n",
            "                                                                 \n",
            " conv2d_transpose_1 (Conv2D  (None, 32, 32, 32)        18464     \n",
            " Transpose)                                                      \n",
            "                                                                 \n",
            " conv2d_transpose_2 (Conv2D  (None, 32, 32, 3)         867       \n",
            " Transpose)                                                      \n",
            "                                                                 \n",
            "=================================================================\n",
            "Total params: 322499 (1.23 MB)\n",
            "Trainable params: 322499 (1.23 MB)\n",
            "Non-trainable params: 0 (0.00 Byte)\n",
            "_________________________________________________________________\n"
          ]
        }
      ]
    },
    {
      "cell_type": "code",
      "source": [
        "outputs = decoder(encoder(inputs)[2])\n",
        "vae = Model(inputs, outputs, name='vae')"
      ],
      "metadata": {
        "id": "3EK0--M4muK1"
      },
      "execution_count": null,
      "outputs": []
    },
    {
      "cell_type": "code",
      "source": [
        "input_shape"
      ],
      "metadata": {
        "colab": {
          "base_uri": "https://localhost:8080/"
        },
        "id": "otkIfmULnhmL",
        "outputId": "44d489f5-e3ec-4222-a22d-83395047cf18"
      },
      "execution_count": null,
      "outputs": [
        {
          "output_type": "execute_result",
          "data": {
            "text/plain": [
              "(32, 32, 3)"
            ]
          },
          "metadata": {},
          "execution_count": 18
        }
      ]
    },
    {
      "cell_type": "code",
      "source": [
        "reconstruction_loss = mean_squared_error(K.flatten(inputs), K.flatten(outputs)) * input_shape[0] * input_shape[1]\n",
        "kl_loss = 1 + z_log_var - K.square(z_mean) - K.exp(z_log_var)\n",
        "kl_loss = K.sum(kl_loss, axis=-1)\n",
        "kl_loss *= -0.5\n",
        "vae_loss = K.mean(reconstruction_loss + kl_loss)"
      ],
      "metadata": {
        "id": "4V3R7kVym-EF"
      },
      "execution_count": null,
      "outputs": []
    },
    {
      "cell_type": "code",
      "source": [
        "vae.add_loss(vae_loss)\n",
        "vae.compile(optimizer='adam')\n",
        "vae.summary()"
      ],
      "metadata": {
        "colab": {
          "base_uri": "https://localhost:8080/"
        },
        "id": "N9LtFviHnrK6",
        "outputId": "71660e5e-a2ae-4531-e275-f3bed6b4f61d"
      },
      "execution_count": null,
      "outputs": [
        {
          "output_type": "stream",
          "name": "stdout",
          "text": [
            "Model: \"vae\"\n",
            "__________________________________________________________________________________________________\n",
            " Layer (type)                Output Shape                 Param #   Connected to                  \n",
            "==================================================================================================\n",
            " encoder_input (InputLayer)  [(None, 32, 32, 3)]          0         []                            \n",
            "                                                                                                  \n",
            " encoder (Functional)        [(None, 64),                 1101120   ['encoder_input[0][0]']       \n",
            "                              (None, 64),                                                         \n",
            "                              (None, 64)]                                                         \n",
            "                                                                                                  \n",
            " decoder (Functional)        (None, 32, 32, 3)            322499    ['encoder[0][2]']             \n",
            "                                                                                                  \n",
            " conv2d (Conv2D)             (None, 16, 16, 32)           896       ['encoder_input[0][0]']       \n",
            "                                                                                                  \n",
            " conv2d_1 (Conv2D)           (None, 8, 8, 64)             18496     ['conv2d[0][0]']              \n",
            "                                                                                                  \n",
            " flatten (Flatten)           (None, 4096)                 0         ['conv2d_1[0][0]']            \n",
            "                                                                                                  \n",
            " dense (Dense)               (None, 256)                  1048832   ['flatten[0][0]']             \n",
            "                                                                                                  \n",
            " tf.reshape_1 (TFOpLambda)   (None,)                      0         ['decoder[0][0]']             \n",
            "                                                                                                  \n",
            " tf.reshape (TFOpLambda)     (None,)                      0         ['encoder_input[0][0]']       \n",
            "                                                                                                  \n",
            " z_log_var (Dense)           (None, 64)                   16448     ['dense[0][0]']               \n",
            "                                                                                                  \n",
            " z_mean (Dense)              (None, 64)                   16448     ['dense[0][0]']               \n",
            "                                                                                                  \n",
            " tf.convert_to_tensor (TFOp  (None,)                      0         ['tf.reshape_1[0][0]']        \n",
            " Lambda)                                                                                          \n",
            "                                                                                                  \n",
            " tf.cast (TFOpLambda)        (None,)                      0         ['tf.reshape[0][0]']          \n",
            "                                                                                                  \n",
            " tf.__operators__.add (TFOp  (None, 64)                   0         ['z_log_var[0][0]']           \n",
            " Lambda)                                                                                          \n",
            "                                                                                                  \n",
            " tf.math.square (TFOpLambda  (None, 64)                   0         ['z_mean[0][0]']              \n",
            " )                                                                                                \n",
            "                                                                                                  \n",
            " tf.math.squared_difference  (None,)                      0         ['tf.convert_to_tensor[0][0]',\n",
            "  (TFOpLambda)                                                       'tf.cast[0][0]']             \n",
            "                                                                                                  \n",
            " tf.math.subtract (TFOpLamb  (None, 64)                   0         ['tf.__operators__.add[0][0]',\n",
            " da)                                                                 'tf.math.square[0][0]']      \n",
            "                                                                                                  \n",
            " tf.math.exp (TFOpLambda)    (None, 64)                   0         ['z_log_var[0][0]']           \n",
            "                                                                                                  \n",
            " tf.math.reduce_mean (TFOpL  ()                           0         ['tf.math.squared_difference[0\n",
            " ambda)                                                             ][0]']                        \n",
            "                                                                                                  \n",
            " tf.math.subtract_1 (TFOpLa  (None, 64)                   0         ['tf.math.subtract[0][0]',    \n",
            " mbda)                                                               'tf.math.exp[0][0]']         \n",
            "                                                                                                  \n",
            " tf.math.multiply (TFOpLamb  ()                           0         ['tf.math.reduce_mean[0][0]'] \n",
            " da)                                                                                              \n",
            "                                                                                                  \n",
            " tf.math.reduce_sum (TFOpLa  (None,)                      0         ['tf.math.subtract_1[0][0]']  \n",
            " mbda)                                                                                            \n",
            "                                                                                                  \n",
            " tf.math.multiply_1 (TFOpLa  ()                           0         ['tf.math.multiply[0][0]']    \n",
            " mbda)                                                                                            \n",
            "                                                                                                  \n",
            " tf.math.multiply_2 (TFOpLa  (None,)                      0         ['tf.math.reduce_sum[0][0]']  \n",
            " mbda)                                                                                            \n",
            "                                                                                                  \n",
            " tf.__operators__.add_1 (TF  (None,)                      0         ['tf.math.multiply_1[0][0]',  \n",
            " OpLambda)                                                           'tf.math.multiply_2[0][0]']  \n",
            "                                                                                                  \n",
            " tf.math.reduce_mean_1 (TFO  ()                           0         ['tf.__operators__.add_1[0][0]\n",
            " pLambda)                                                           ']                            \n",
            "                                                                                                  \n",
            " add_loss (AddLoss)          ()                           0         ['tf.math.reduce_mean_1[0][0]'\n",
            "                                                                    ]                             \n",
            "                                                                                                  \n",
            "==================================================================================================\n",
            "Total params: 1423619 (5.43 MB)\n",
            "Trainable params: 1423619 (5.43 MB)\n",
            "Non-trainable params: 0 (0.00 Byte)\n",
            "__________________________________________________________________________________________________\n"
          ]
        }
      ]
    },
    {
      "cell_type": "code",
      "source": [
        "# Train the autoencoder\n",
        "epochs=30\n",
        "vae.fit(x_train,\n",
        "        epochs=epochs,\n",
        "        batch_size=batch_size,\n",
        "        validation_data=(x_test, None))"
      ],
      "metadata": {
        "colab": {
          "base_uri": "https://localhost:8080/"
        },
        "id": "tb3rlokyntMu",
        "outputId": "1a08d33a-0270-4146-cf71-276a0a5ead83"
      },
      "execution_count": null,
      "outputs": [
        {
          "output_type": "stream",
          "name": "stdout",
          "text": [
            "Epoch 1/30\n",
            "391/391 [==============================] - 5s 14ms/step - loss: 35.2724 - val_loss: 35.2420\n",
            "Epoch 2/30\n",
            "391/391 [==============================] - 5s 14ms/step - loss: 35.1518 - val_loss: 35.1668\n",
            "Epoch 3/30\n",
            "391/391 [==============================] - 5s 13ms/step - loss: 35.0389 - val_loss: 35.1469\n",
            "Epoch 4/30\n",
            "391/391 [==============================] - 5s 13ms/step - loss: 34.9174 - val_loss: 35.1256\n",
            "Epoch 5/30\n",
            "391/391 [==============================] - 5s 12ms/step - loss: 34.8447 - val_loss: 34.8917\n",
            "Epoch 6/30\n",
            "391/391 [==============================] - 5s 12ms/step - loss: 34.7438 - val_loss: 34.8107\n",
            "Epoch 7/30\n",
            "391/391 [==============================] - 5s 14ms/step - loss: 34.7188 - val_loss: 34.9235\n",
            "Epoch 8/30\n",
            "391/391 [==============================] - 5s 13ms/step - loss: 34.6740 - val_loss: 34.7715\n",
            "Epoch 9/30\n",
            "391/391 [==============================] - 5s 12ms/step - loss: 34.6195 - val_loss: 34.6668\n",
            "Epoch 10/30\n",
            "391/391 [==============================] - 5s 12ms/step - loss: 34.5820 - val_loss: 34.7817\n",
            "Epoch 11/30\n",
            "391/391 [==============================] - 5s 12ms/step - loss: 34.5852 - val_loss: 34.7803\n",
            "Epoch 12/30\n",
            "391/391 [==============================] - 6s 14ms/step - loss: 34.5060 - val_loss: 34.5570\n",
            "Epoch 13/30\n",
            "391/391 [==============================] - 5s 13ms/step - loss: 34.5165 - val_loss: 34.5871\n",
            "Epoch 14/30\n",
            "391/391 [==============================] - 5s 13ms/step - loss: 34.4919 - val_loss: 34.6428\n",
            "Epoch 15/30\n",
            "391/391 [==============================] - 5s 13ms/step - loss: 34.4710 - val_loss: 34.6506\n",
            "Epoch 16/30\n",
            "391/391 [==============================] - 5s 13ms/step - loss: 34.4778 - val_loss: 34.7171\n",
            "Epoch 17/30\n",
            "391/391 [==============================] - 5s 13ms/step - loss: 34.4308 - val_loss: 34.5210\n",
            "Epoch 18/30\n",
            "391/391 [==============================] - 5s 12ms/step - loss: 34.4227 - val_loss: 34.7280\n",
            "Epoch 19/30\n",
            "391/391 [==============================] - 5s 13ms/step - loss: 34.4037 - val_loss: 34.6237\n",
            "Epoch 20/30\n",
            "391/391 [==============================] - 5s 14ms/step - loss: 34.3822 - val_loss: 34.5628\n",
            "Epoch 21/30\n",
            "391/391 [==============================] - 5s 13ms/step - loss: 34.3935 - val_loss: 34.4637\n",
            "Epoch 22/30\n",
            "391/391 [==============================] - 5s 13ms/step - loss: 34.3749 - val_loss: 34.4629\n",
            "Epoch 23/30\n",
            "391/391 [==============================] - 5s 12ms/step - loss: 34.3517 - val_loss: 34.5372\n",
            "Epoch 24/30\n",
            "391/391 [==============================] - 5s 13ms/step - loss: 34.3476 - val_loss: 34.4491\n",
            "Epoch 25/30\n",
            "391/391 [==============================] - 5s 14ms/step - loss: 34.3407 - val_loss: 34.6208\n",
            "Epoch 26/30\n",
            "391/391 [==============================] - 5s 13ms/step - loss: 34.3164 - val_loss: 34.4333\n",
            "Epoch 27/30\n",
            "391/391 [==============================] - 5s 13ms/step - loss: 34.3147 - val_loss: 34.5092\n",
            "Epoch 28/30\n",
            "391/391 [==============================] - 5s 13ms/step - loss: 34.2930 - val_loss: 34.4024\n",
            "Epoch 29/30\n",
            "391/391 [==============================] - 5s 12ms/step - loss: 34.2661 - val_loss: 34.3647\n",
            "Epoch 30/30\n",
            "391/391 [==============================] - 5s 13ms/step - loss: 34.2707 - val_loss: 34.4329\n"
          ]
        },
        {
          "output_type": "execute_result",
          "data": {
            "text/plain": [
              "<keras.src.callbacks.History at 0x7cc539cc09d0>"
            ]
          },
          "metadata": {},
          "execution_count": 26
        }
      ]
    },
    {
      "cell_type": "code",
      "source": [
        "_x_test = [0.8] * 64\n",
        "_x_test"
      ],
      "metadata": {
        "colab": {
          "base_uri": "https://localhost:8080/"
        },
        "id": "P2Qe0Z2mn5Zt",
        "outputId": "5d545207-b0f4-4bea-8b70-52ee83a3063a"
      },
      "execution_count": null,
      "outputs": [
        {
          "output_type": "execute_result",
          "data": {
            "text/plain": [
              "[0.8,\n",
              " 0.8,\n",
              " 0.8,\n",
              " 0.8,\n",
              " 0.8,\n",
              " 0.8,\n",
              " 0.8,\n",
              " 0.8,\n",
              " 0.8,\n",
              " 0.8,\n",
              " 0.8,\n",
              " 0.8,\n",
              " 0.8,\n",
              " 0.8,\n",
              " 0.8,\n",
              " 0.8,\n",
              " 0.8,\n",
              " 0.8,\n",
              " 0.8,\n",
              " 0.8,\n",
              " 0.8,\n",
              " 0.8,\n",
              " 0.8,\n",
              " 0.8,\n",
              " 0.8,\n",
              " 0.8,\n",
              " 0.8,\n",
              " 0.8,\n",
              " 0.8,\n",
              " 0.8,\n",
              " 0.8,\n",
              " 0.8,\n",
              " 0.8,\n",
              " 0.8,\n",
              " 0.8,\n",
              " 0.8,\n",
              " 0.8,\n",
              " 0.8,\n",
              " 0.8,\n",
              " 0.8,\n",
              " 0.8,\n",
              " 0.8,\n",
              " 0.8,\n",
              " 0.8,\n",
              " 0.8,\n",
              " 0.8,\n",
              " 0.8,\n",
              " 0.8,\n",
              " 0.8,\n",
              " 0.8,\n",
              " 0.8,\n",
              " 0.8,\n",
              " 0.8,\n",
              " 0.8,\n",
              " 0.8,\n",
              " 0.8,\n",
              " 0.8,\n",
              " 0.8,\n",
              " 0.8,\n",
              " 0.8,\n",
              " 0.8,\n",
              " 0.8,\n",
              " 0.8,\n",
              " 0.8]"
            ]
          },
          "metadata": {},
          "execution_count": 27
        }
      ]
    },
    {
      "cell_type": "code",
      "source": [
        "z_sample = np.array([_x_test])\n",
        "x_decoded = decoder.predict(z_sample)"
      ],
      "metadata": {
        "colab": {
          "base_uri": "https://localhost:8080/"
        },
        "id": "Kskf5I9jpg9a",
        "outputId": "9d9f56af-bd2f-4f3f-8587-c96b5c9bc2f8"
      },
      "execution_count": null,
      "outputs": [
        {
          "output_type": "stream",
          "name": "stdout",
          "text": [
            "1/1 [==============================] - 0s 18ms/step\n"
          ]
        }
      ]
    },
    {
      "cell_type": "code",
      "source": [
        "x_decoded.shape"
      ],
      "metadata": {
        "colab": {
          "base_uri": "https://localhost:8080/"
        },
        "id": "1uo5H4e7puNF",
        "outputId": "43fcffd3-52c1-4596-ceb9-15b84ba7bc8f"
      },
      "execution_count": null,
      "outputs": [
        {
          "output_type": "execute_result",
          "data": {
            "text/plain": [
              "(1, 32, 32, 3)"
            ]
          },
          "metadata": {},
          "execution_count": 29
        }
      ]
    },
    {
      "cell_type": "code",
      "source": [
        "import matplotlib.pyplot as plt\n",
        "\n",
        "plt.imshow(x_decoded[0])"
      ],
      "metadata": {
        "colab": {
          "base_uri": "https://localhost:8080/",
          "height": 447
        },
        "id": "IAFJm8tip0UE",
        "outputId": "42ef6475-dc60-4008-fb63-b9f890acff9c"
      },
      "execution_count": null,
      "outputs": [
        {
          "output_type": "execute_result",
          "data": {
            "text/plain": [
              "<matplotlib.image.AxesImage at 0x7cc53a7e3550>"
            ]
          },
          "metadata": {},
          "execution_count": 30
        },
        {
          "output_type": "display_data",
          "data": {
            "text/plain": [
              "<Figure size 640x480 with 1 Axes>"
            ],
            "image/png": "[encoded data removed]"
          },
          "metadata": {}
        }
      ]
    },
    {
      "cell_type": "markdown",
      "source": [
        "### What is the VAE learning?\n",
        "\n",
        "![Learning_2_Different_distributions](https://ermongroup.github.io/blog/assets/blog/mmd_vae/kl_latent.gif)\n",
        "\n",
        "For additional details on the training of VAEs and the KL divergence Loss Function check: [A Tutorial on Information Maximizing Variational Autoencoders (InfoVAE)](https://ermongroup.github.io/blog/a-tutorial-on-mmd-variational-autoencoders/)"
      ],
      "metadata": {
        "id": "JmHFjCxIwnas"
      }
    },
    {
      "cell_type": "markdown",
      "source": [
        "### A Random image reconstructed"
      ],
      "metadata": {
        "id": "GI4fevTb4RaH"
      }
    },
    {
      "cell_type": "code",
      "source": [
        "import numpy as np\n",
        "import matplotlib.pyplot as plt\n",
        "\n",
        "# Sample a random image from the test set\n",
        "random_index = np.random.randint(0, x_test.shape[0])\n",
        "random_image = x_test[random_index]\n",
        "\n",
        "# Add batch dimension and normalize the image\n",
        "input_image = np.expand_dims(random_image, axis=0) / 255.0\n",
        "\n",
        "# Use the VAE to reconstruct the image\n",
        "reconstructed_image = vae.predict(input_image)\n",
        "\n",
        "# Remove batch dimension and denormalize the reconstructed image\n",
        "reconstructed_image = reconstructed_image[0] * 255.0\n",
        "reconstructed_image = reconstructed_image.astype(np.uint8)\n",
        "\n",
        "# Plot the original and reconstructed images\n",
        "fig, axes = plt.subplots(1, 2, figsize=(10, 5))\n",
        "\n",
        "# Original image\n",
        "axes[0].imshow(random_image)\n",
        "axes[0].set_title('Original Image')\n",
        "axes[0].axis('off')\n",
        "\n",
        "# Reconstructed image\n",
        "axes[1].imshow(reconstructed_image)\n",
        "axes[1].set_title('Reconstructed Image')\n",
        "axes[1].axis('off')\n",
        "\n",
        "plt.show()\n"
      ],
      "metadata": {
        "id": "HedAqb7Fp7Zl",
        "colab": {
          "base_uri": "https://localhost:8080/",
          "height": 428
        },
        "outputId": "e41263ee-3cf7-48ea-8030-5b4a15a6a191"
      },
      "execution_count": null,
      "outputs": [
        {
          "output_type": "stream",
          "name": "stdout",
          "text": [
            "1/1 [==============================] - 0s 492ms/step\n"
          ]
        },
        {
          "output_type": "display_data",
          "data": {
            "text/plain": [
              "<Figure size 1000x500 with 2 Axes>"
            ],
            "image/png": "[encoded data removed]"
          },
          "metadata": {}
        }
      ]
    }
  ]
}